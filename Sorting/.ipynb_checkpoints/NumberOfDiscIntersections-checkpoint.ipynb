{
 "cells": [
  {
   "cell_type": "markdown",
   "metadata": {},
   "source": [
    "We draw N discs on a plane. The discs are numbered from 0 to N − 1. An array A of N non-negative integers, specifying the radiuses of the discs, is given. The J-th disc is drawn with its center at (J, 0) and radius A[J].\n",
    "\n",
    "We say that the J-th disc and K-th disc intersect if J ≠ K and the J-th and K-th discs have at least one common point (assuming that the discs contain their borders).\n",
    "\n",
    "The figure below shows discs drawn for N = 6 and A as follows:\n",
    "\n",
    "  A[0] = 1\n",
    "  A[1] = 5\n",
    "  A[2] = 2\n",
    "  A[3] = 1\n",
    "  A[4] = 4\n",
    "  A[5] = 0\n",
    "\n",
    "\n",
    "There are eleven (unordered) pairs of discs that intersect, namely:\n",
    "\n",
    "discs 1 and 4 intersect, and both intersect with all the other discs;\n",
    "disc 2 also intersects with discs 0 and 3.\n",
    "Write a function:\n",
    "\n",
    "class Solution { public int solution(int[] A); }\n",
    "\n",
    "that, given an array A describing N discs as explained above, returns the number of (unordered) pairs of intersecting discs. The function should return −1 if the number of intersecting pairs exceeds 10,000,000.\n",
    "\n",
    "Given array A shown above, the function should return 11, as explained above.\n",
    "\n",
    "Write an efficient algorithm for the following assumptions:\n",
    "\n",
    "N is an integer within the range [0..100,000];\n",
    "each element of array A is an integer within the range [0..2,147,483,647]."
   ]
  },
  {
   "cell_type": "code",
   "execution_count": 2,
   "metadata": {},
   "outputs": [],
   "source": [
    "def solution(A):\n",
    "    if len(A) == 0:\n",
    "        return 0\n",
    "    S=[0]*len(A)\n",
    "    E=[0]*len(A)\n",
    "    CS=[0]*len(A)\n",
    "    CE=[0]*len(A)\n",
    "\n",
    "    for i in range(0, len(A)):\n",
    "        if((i-A[i])<=0):\n",
    "            S[i]=0\n",
    "        else:\n",
    "            S[i]=i-A[i]\n",
    "        if ((i+A[i])>len(A)-1):\n",
    "            E[i]=len(A)-1\n",
    "        else:\n",
    "            E[i]=i+A[i]\n",
    "\n",
    "        CS[S[i]]+=1\n",
    "        CE[E[i]]+=1\n",
    "\n",
    "    CCS= [0]*len(A)\n",
    "    CCE= [0]*len(A)\n",
    "\n",
    "    CCS[0]=CS[0]\n",
    "    CCE[0]=CE[0]\n",
    "    for i in range(1,len(A)):\n",
    "        CCS[i]=CS[i]+CCS[i-1]\n",
    "        CCE[i]=CE[i]+CCE[i-1]\n",
    "    \n",
    "    tot=0\n",
    "    for i in range(0, len(A)):\n",
    "        if i==0:\n",
    "            tot+=(CCS[i]-CS[i])*CS[i]+CS[i]*(CS[i]-1)/2\n",
    "        \n",
    "        else:\n",
    "            tot+=(CCS[i]-CCE[i-1]-CS[i])*CS[i]+CS[i]*(CS[i]-1)/2\n",
    "    \n",
    "    if(tot>10000000):\n",
    "        return -1\n",
    "    return int(tot)\n"
   ]
  },
  {
   "cell_type": "code",
   "execution_count": null,
   "metadata": {},
   "outputs": [],
   "source": []
  }
 ],
 "metadata": {
  "kernelspec": {
   "display_name": "Python 3",
   "language": "python",
   "name": "python3"
  },
  "language_info": {
   "codemirror_mode": {
    "name": "ipython",
    "version": 3
   },
   "file_extension": ".py",
   "mimetype": "text/x-python",
   "name": "python",
   "nbconvert_exporter": "python",
   "pygments_lexer": "ipython3",
   "version": "3.7.4"
  }
 },
 "nbformat": 4,
 "nbformat_minor": 2
}
