{
 "cells": [
  {
   "cell_type": "markdown",
   "metadata": {},
   "source": [
    "A non-empty array A consisting of N integers is given. The consecutive elements of array A represent consecutive cars on a road.\n",
    "\n",
    "Array A contains only 0s and/or 1s:\n",
    "\n",
    "0 represents a car traveling east,\n",
    "1 represents a car traveling west.\n",
    "The goal is to count passing cars. We say that a pair of cars (P, Q), where 0 ≤ P < Q < N, is passing when P is traveling to the east and Q is traveling to the west.\n",
    "\n",
    "For example, consider array A such that:\n",
    "\n",
    "  A[0] = 0\n",
    "  A[1] = 1\n",
    "  A[2] = 0\n",
    "  A[3] = 1\n",
    "  A[4] = 1\n",
    "We have five pairs of passing cars: (0, 1), (0, 3), (0, 4), (2, 3), (2, 4).\n",
    "\n",
    "Write a function:\n",
    "\n",
    "class Solution { public int solution(int[] A); }\n",
    "\n",
    "that, given a non-empty array A of N integers, returns the number of pairs of passing cars.\n",
    "\n",
    "The function should return −1 if the number of pairs of passing cars exceeds 1,000,000,000.\n",
    "\n",
    "For example, given:\n",
    "\n",
    "  A[0] = 0\n",
    "  A[1] = 1\n",
    "  A[2] = 0\n",
    "  A[3] = 1\n",
    "  A[4] = 1\n",
    "the function should return 5, as explained above.\n",
    "\n",
    "Write an efficient algorithm for the following assumptions:\n",
    "\n",
    "N is an integer within the range [1..100,000];\n",
    "each element of array A is an integer that can have one of the following values: 0, 1."
   ]
  },
  {
   "cell_type": "code",
   "execution_count": 1,
   "metadata": {},
   "outputs": [],
   "source": [
    "def solution(A):\n",
    "    sE=0\n",
    "    s=0\n",
    "    for i in range(0,len(A)):\n",
    "        if A[i]==0:\n",
    "            sE+=1\n",
    "        elif A[i]==1:\n",
    "            s+=sE\n",
    "    if s>1000000:\n",
    "        return -1\n",
    "    else:\n",
    "        return s"
   ]
  },
  {
   "cell_type": "code",
   "execution_count": null,
   "metadata": {},
   "outputs": [],
   "source": []
  }
 ],
 "metadata": {
  "kernelspec": {
   "display_name": "Python 3",
   "language": "python",
   "name": "python3"
  },
  "language_info": {
   "codemirror_mode": {
    "name": "ipython",
    "version": 3
   },
   "file_extension": ".py",
   "mimetype": "text/x-python",
   "name": "python",
   "nbconvert_exporter": "python",
   "pygments_lexer": "ipython3",
   "version": "3.7.4"
  }
 },
 "nbformat": 4,
 "nbformat_minor": 2
}
