{
 "cells": [
  {
   "cell_type": "markdown",
   "metadata": {},
   "source": [
    "A DNA sequence can be represented as a string consisting of the letters A, C, G and T, which correspond to the types of successive nucleotides in the sequence. Each nucleotide has an impact factor, which is an integer. Nucleotides of types A, C, G and T have impact factors of 1, 2, 3 and 4, respectively. You are going to answer several queries of the form: What is the minimal impact factor of nucleotides contained in a particular part of the given DNA sequence?\n",
    "\n",
    "The DNA sequence is given as a non-empty string S = S[0]S[1]...S[N-1] consisting of N characters. There are M queries, which are given in non-empty arrays P and Q, each consisting of M integers. The K-th query (0 ≤ K < M) requires you to find the minimal impact factor of nucleotides contained in the DNA sequence between positions P[K] and Q[K] (inclusive).\n",
    "\n",
    "For example, consider string S = CAGCCTA and arrays P, Q such that:\n",
    "\n",
    "    P[0] = 2    Q[0] = 4\n",
    "    P[1] = 5    Q[1] = 5\n",
    "    P[2] = 0    Q[2] = 6\n",
    "The answers to these M = 3 queries are as follows:\n",
    "\n",
    "The part of the DNA between positions 2 and 4 contains nucleotides G and C (twice), whose impact factors are 3 and 2 respectively, so the answer is 2.\n",
    "The part between positions 5 and 5 contains a single nucleotide T, whose impact factor is 4, so the answer is 4.\n",
    "The part between positions 0 and 6 (the whole string) contains all nucleotides, in particular nucleotide A whose impact factor is 1, so the answer is 1.\n",
    "Write a function:\n",
    "\n",
    "class Solution { public int[] solution(String S, int[] P, int[] Q); }\n",
    "\n",
    "that, given a non-empty string S consisting of N characters and two non-empty arrays P and Q consisting of M integers, returns an array consisting of M integers specifying the consecutive answers to all queries.\n",
    "\n",
    "Result array should be returned as an array of integers.\n",
    "\n",
    "For example, given the string S = CAGCCTA and arrays P, Q such that:\n",
    "\n",
    "    P[0] = 2    Q[0] = 4\n",
    "    P[1] = 5    Q[1] = 5\n",
    "    P[2] = 0    Q[2] = 6\n",
    "the function should return the values [2, 4, 1], as explained above.\n",
    "\n",
    "Write an efficient algorithm for the following assumptions:\n",
    "\n",
    "N is an integer within the range [1..100,000];\n",
    "M is an integer within the range [1..50,000];\n",
    "each element of arrays P and Q is an integer within the range [0..N - 1];\n",
    "P[K] ≤ Q[K], where 0 ≤ K < M;\n",
    "string S consists only of upper-case English letters A, C, G, T."
   ]
  },
  {
   "cell_type": "code",
   "execution_count": 2,
   "metadata": {},
   "outputs": [],
   "source": [
    "def solution(S, P, Q):\n",
    "    R=[]\n",
    "    A=[0]*len(S)\n",
    "    C=[0]*len(S)\n",
    "    G=[0]*len(S)\n",
    "    T=[0]*len(S)\n",
    "\n",
    "    a=c=g=t=0\n",
    "\n",
    "    for i in range(0, len(S)):\n",
    "        if S[i]=='A':\n",
    "            a+=1\n",
    "        elif S[i]=='C':\n",
    "            c+=1\n",
    "        elif S[i]=='G':\n",
    "            g+=1\n",
    "        elif S[i]=='T':\n",
    "            t+=1\n",
    "        \n",
    "        A[i]=a\n",
    "        C[i]=c\n",
    "        G[i]=g\n",
    "        T[i]=t\n",
    "\n",
    "    for i in range(0, len(P)):\n",
    "        \n",
    "        if A[P[i]]<A[Q[i]] or S[P[i]] == 'A':\n",
    "            R.append(1)\n",
    "        elif C[P[i]]<C[Q[i]] or S[P[i]] == 'C':\n",
    "            R.append(2)\n",
    "        elif G[P[i]]<G[Q[i]] or S[P[i]] == 'G':\n",
    "            R.append(3)\n",
    "        elif T[P[i]]<T[Q[i]] or S[P[i]] == 'T':\n",
    "            R.append(4)\n",
    "    \n"
   ]
  },
  {
   "cell_type": "code",
   "execution_count": null,
   "metadata": {},
   "outputs": [],
   "source": []
  }
 ],
 "metadata": {
  "kernelspec": {
   "display_name": "Python 3",
   "language": "python",
   "name": "python3"
  },
  "language_info": {
   "codemirror_mode": {
    "name": "ipython",
    "version": 3
   },
   "file_extension": ".py",
   "mimetype": "text/x-python",
   "name": "python",
   "nbconvert_exporter": "python",
   "pygments_lexer": "ipython3",
   "version": "3.7.4"
  }
 },
 "nbformat": 4,
 "nbformat_minor": 2
}
