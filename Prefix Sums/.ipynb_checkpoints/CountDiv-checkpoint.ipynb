{
 "cells": [
  {
   "cell_type": "markdown",
   "metadata": {},
   "source": [
    "Write a function:\n",
    "\n",
    "class Solution { public int solution(int A, int B, int K); }\n",
    "\n",
    "that, given three integers A, B and K, returns the number of integers within the range [A..B] that are divisible by K, i.e.:\n",
    "\n",
    "{ i : A ≤ i ≤ B, i mod K = 0 }\n",
    "\n",
    "For example, for A = 6, B = 11 and K = 2, your function should return 3, because there are three numbers divisible by 2 within the range [6..11], namely 6, 8 and 10.\n",
    "\n",
    "Write an efficient algorithm for the following assumptions:\n",
    "\n",
    "A and B are integers within the range [0..2,000,000,000];\n",
    "K is an integer within the range [1..2,000,000,000];\n",
    "A ≤ B."
   ]
  },
  {
   "cell_type": "code",
   "execution_count": 1,
   "metadata": {},
   "outputs": [],
   "source": [
    "def solution(A, B, K):\n",
    "    c=int(B/K)-int(A/K)\n",
    "    if(A%K==0):\n",
    "        c=c+1\n",
    "    return c"
   ]
  },
  {
   "cell_type": "code",
   "execution_count": null,
   "metadata": {},
   "outputs": [],
   "source": []
  }
 ],
 "metadata": {
  "kernelspec": {
   "display_name": "Python 3",
   "language": "python",
   "name": "python3"
  },
  "language_info": {
   "codemirror_mode": {
    "name": "ipython",
    "version": 3
   },
   "file_extension": ".py",
   "mimetype": "text/x-python",
   "name": "python",
   "nbconvert_exporter": "python",
   "pygments_lexer": "ipython3",
   "version": "3.7.4"
  }
 },
 "nbformat": 4,
 "nbformat_minor": 2
}
